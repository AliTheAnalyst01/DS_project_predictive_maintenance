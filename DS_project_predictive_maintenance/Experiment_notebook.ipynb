{
 "cells": [
  {
   "cell_type": "code",
   "execution_count": 1,
   "metadata": {},
   "outputs": [
    {
     "name": "stdout",
     "output_type": "stream",
     "text": [
      "Peak Indices: (array([2, 5, 7], dtype=int64),)\n",
      "Valley Indices: (array([3, 6], dtype=int64),)\n"
     ]
    }
   ],
   "source": [
    "import numpy as np\n",
    "from scipy.signal import argrelextrema\n",
    "\n",
    "# Sample data\n",
    "data = np.array([1, 3, 7, 1, 2, 6, 4, 8, 3, 0])\n",
    "\n",
    "# Find the indices of local maxima (peaks)\n",
    "peak_indices = argrelextrema(data, np.greater)\n",
    "\n",
    "# Find the indices of local minima (valleys)\n",
    "valley_indices = argrelextrema(data, np.less)\n",
    "\n",
    "# Print the results\n",
    "print(\"Peak Indices:\", peak_indices)\n",
    "print(\"Valley Indices:\", valley_indices)"
   ]
  }
 ],
 "metadata": {
  "kernelspec": {
   "display_name": "py34",
   "language": "python",
   "name": "python3"
  },
  "language_info": {
   "codemirror_mode": {
    "name": "ipython",
    "version": 3
   },
   "file_extension": ".py",
   "mimetype": "text/x-python",
   "name": "python",
   "nbconvert_exporter": "python",
   "pygments_lexer": "ipython3",
   "version": "3.10.12"
  },
  "orig_nbformat": 4
 },
 "nbformat": 4,
 "nbformat_minor": 2
}
